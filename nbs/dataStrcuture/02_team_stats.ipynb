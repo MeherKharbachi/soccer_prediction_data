{
 "cells": [
  {
   "cell_type": "code",
   "execution_count": null,
   "id": "1043e341",
   "metadata": {},
   "outputs": [],
   "source": [
    "#| default_exp datastructure.team_stats"
   ]
  },
  {
   "cell_type": "code",
   "execution_count": null,
   "id": "8960cddc",
   "metadata": {},
   "outputs": [],
   "source": [
    "from IPython.core.debugger import set_trace\n",
    "\n",
    "%load_ext autoreload\n",
    "%autoreload 2"
   ]
  },
  {
   "cell_type": "markdown",
   "id": "1802842a",
   "metadata": {},
   "source": [
    "#  Team Stats\n",
    "> Data structure required to extract Instat Team Stats."
   ]
  },
  {
   "cell_type": "code",
   "execution_count": null,
   "id": "3724f98a-05ee-409b-8f06-29a31197c959",
   "metadata": {},
   "outputs": [],
   "source": [
    "#| export\n",
    "\n",
    "import pandas as pd\n",
    "import mongoengine\n",
    "import datetime\n",
    "import logging\n",
    "from typing import List\n",
    "from mongoengine.fields import ListField\n",
    "from soccer_prediction_data.config.localconfig import CONFIG"
   ]
  },
  {
   "cell_type": "markdown",
   "id": "5820038d",
   "metadata": {},
   "source": [
    "## Action"
   ]
  },
  {
   "cell_type": "markdown",
   "id": "7dc4f379",
   "metadata": {},
   "source": [
    "The Action class provides all of the necessary information regarding the stats recorded during a given team's game.\n",
    "\n",
    "Example of an Action is the number of shots. "
   ]
  },
  {
   "cell_type": "code",
   "execution_count": null,
   "id": "f76650dc",
   "metadata": {},
   "outputs": [],
   "source": [
    "#| export\n",
    "\n",
    "\n",
    "class Action(mongoengine.EmbeddedDocument):\n",
    "    \"Stores main information about the reported stats of a given team in a given game.\"\n",
    "    # Action Ids.\n",
    "    action_id = mongoengine.IntField(db_field=\"actionId\", required=True)\n",
    "    # Action name.\n",
    "    action_name = mongoengine.StringField(db_field=\"actionName\", required=True)\n",
    "    # Value.\n",
    "    value = mongoengine.IntField(db_field=\"value\", required=True)\n",
    "    # Time Periods.\n",
    "    time_periods = ListField(db_field=\"timePeriods\", required=False)\n",
    "    # Zones.\n",
    "    zones = ListField(db_field=\"zones\", required=False)"
   ]
  },
  {
   "cell_type": "markdown",
   "id": "84080ce5",
   "metadata": {},
   "source": [
    "## Teams\n",
    "\n",
    "These features are computed at the game level and contains:\n",
    "\n",
    "+ **Metadata**: general information about game Id, a given team identity. \n",
    "+ **Stats** information: the entire set of metrics realised throughout the game."
   ]
  },
  {
   "cell_type": "code",
   "execution_count": null,
   "id": "fc030a0d",
   "metadata": {},
   "outputs": [],
   "source": [
    "# | export\n",
    "\n",
    "\n",
    "class TeamStats(mongoengine.Document):\n",
    "    \"Store the team stats for a given game identified by its id\"\n",
    "\n",
    "    # Game-id.\n",
    "    game_id = mongoengine.IntField(db_field=\"gameId\", required=True)\n",
    "\n",
    "    # Team.\n",
    "    team_id = mongoengine.IntField(db_field=\"teamId\", required=True)\n",
    "    team_name = mongoengine.StringField(db_field=\"teamName\", required=True)\n",
    "\n",
    "    # Stats.\n",
    "    stats = mongoengine.EmbeddedDocumentListField(Action)\n",
    "\n",
    "    meta = {\n",
    "        \"db_alias\": \"inStat\",\n",
    "        \"collection\": \"teamStats\",\n",
    "    }\n",
    "\n",
    "    @classmethod\n",
    "    def get_all_teams_stats(\n",
    "        cls,\n",
    "        limit: int = None,  # Number of rows.\n",
    "    ):  # List of TeamStats output.\n",
    "        \"Extract all documents.\"\n",
    "        return cls.objects().limit(limit)\n",
    "\n",
    "    @classmethod\n",
    "    def get_game_team_stats(\n",
    "        cls,\n",
    "        game_id: int,  # Instat game identifier.\n",
    "        team_id: int,  # Instat team identifier.\n",
    "    ):  # Fixture output.\n",
    "        \"Extract a single game stats by its gameId and teamId.\"\n",
    "        return cls.objects(game_id=game_id, team_id=team_id).first()"
   ]
  },
  {
   "cell_type": "code",
   "execution_count": null,
   "id": "6b30c647-b2be-4337-8cfa-a1d39d4df7d8",
   "metadata": {},
   "outputs": [],
   "source": [
    "from soccer_prediction_data.config.mongo import mongo_init"
   ]
  },
  {
   "cell_type": "code",
   "execution_count": null,
   "id": "404f0cdd",
   "metadata": {},
   "outputs": [
    {
     "data": {
      "text/plain": [
       "{'action_id': -18,\n",
       " 'action_name': 'Goals scored - Result',\n",
       " 'value': 1,\n",
       " 'time_periods': [{'t4': 1.0}],\n",
       " 'zones': [{'z4b': 1.0}]}"
      ]
     },
     "execution_count": null,
     "metadata": {},
     "output_type": "execute_result"
    }
   ],
   "source": [
    "# Initialise connections.\n",
    "mongo_init(\"prod_atlas\")\n",
    "# GameId.\n",
    "game_id = 1199088\n",
    "# Team Id.\n",
    "team_id = 1059\n",
    "# Extract team stats during the game.\n",
    "team_stats = TeamStats.get_game_team_stats(\n",
    "    game_id=game_id,\n",
    "    team_id=team_id,\n",
    ")\n",
    "first_stat = team_stats.stats.first()\n",
    "{x:first_stat[x] for x in first_stat}"
   ]
  },
  {
   "cell_type": "code",
   "execution_count": null,
   "id": "21a3d439-7094-4744-b2cb-a5684493c700",
   "metadata": {},
   "outputs": [],
   "source": [
    "#| hide\n",
    "\n",
    "import nbdev\n",
    "\n",
    "nbdev.nbdev_export()"
   ]
  }
 ],
 "metadata": {
  "kernelspec": {
   "display_name": "python3",
   "language": "python",
   "name": "python3"
  }
 },
 "nbformat": 4,
 "nbformat_minor": 5
}
