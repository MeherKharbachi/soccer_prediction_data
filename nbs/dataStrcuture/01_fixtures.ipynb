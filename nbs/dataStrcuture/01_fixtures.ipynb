{
 "cells": [
  {
   "cell_type": "code",
   "execution_count": null,
   "id": "1043e341",
   "metadata": {},
   "outputs": [],
   "source": [
    "#| default_exp datastructure.fixture"
   ]
  },
  {
   "cell_type": "code",
   "execution_count": null,
   "id": "8960cddc",
   "metadata": {},
   "outputs": [],
   "source": [
    "from IPython.core.debugger import set_trace\n",
    "\n",
    "%load_ext autoreload\n",
    "%autoreload 2"
   ]
  },
  {
   "cell_type": "markdown",
   "id": "1802842a",
   "metadata": {},
   "source": [
    "#  Fixtures\n",
    "> Data structure required to extract soccer fixtures."
   ]
  },
  {
   "cell_type": "code",
   "execution_count": null,
   "id": "3724f98a-05ee-409b-8f06-29a31197c959",
   "metadata": {},
   "outputs": [],
   "source": [
    "#| export\n",
    "\n",
    "import pandas as pd\n",
    "import mongoengine\n",
    "import datetime\n",
    "import logging\n",
    "from typing import List\n",
    "from mongoengine.fields import ListField\n",
    "from soccer_prediction_data.config.localconfig import CONFIG"
   ]
  },
  {
   "cell_type": "markdown",
   "id": "bc42362c",
   "metadata": {},
   "source": [
    "## Venue and Officials classes"
   ]
  },
  {
   "cell_type": "markdown",
   "id": "351aef41",
   "metadata": {},
   "source": [
    "The Venue and officials classes contain the necassary information about the venue and officials reported on the game."
   ]
  },
  {
   "cell_type": "code",
   "execution_count": null,
   "id": "84a083ec",
   "metadata": {},
   "outputs": [],
   "source": [
    "#| export\n",
    "\n",
    "\n",
    "class Venue(mongoengine.EmbeddedDocument):\n",
    "    \"Stores main information about the reported venue on the game information.\"\n",
    "    # Venue Ids.\n",
    "    venue_id = mongoengine.StringField(db_field=\"VenueId\", required=False)\n",
    "    # Venue name.\n",
    "    venue_name = mongoengine.StringField(db_field=\"VenueName\", required=False)\n",
    "\n",
    "\n",
    "class Officials(mongoengine.EmbeddedDocument):\n",
    "    \"Stores main information about officials reported on the game information.\"\n",
    "    # Venue Ids.\n",
    "    referee_id = mongoengine.IntField(db_field=\"refereeId\", required=False)\n",
    "    # Venue name.\n",
    "    referee_name = mongoengine.StringField(db_field=\"refereeName\", required=False)"
   ]
  },
  {
   "cell_type": "markdown",
   "id": "84080ce5",
   "metadata": {},
   "source": [
    "## Games\n",
    "\n",
    "These features are computed at the game level and contains:\n",
    "\n",
    "+ **Metadata**: general information about game date, teams identities, competition, season, duration, officials...\n",
    "+ **Stadium** information: Venue name and Id.\n",
    "+ **Full Time Score**: Scored goals."
   ]
  },
  {
   "cell_type": "code",
   "execution_count": null,
   "id": "fc030a0d",
   "metadata": {},
   "outputs": [],
   "source": [
    "#| export\n",
    "\n",
    "\n",
    "class Fixture(mongoengine.Document):\n",
    "    \"Store the game-features for a given game identified by its id\"\n",
    "\n",
    "    # Game-id.\n",
    "    game_id = mongoengine.IntField(db_field=\"gameId\", required=True)\n",
    "\n",
    "    # Game-date/time.\n",
    "    game_date = mongoengine.DateTimeField(db_field=\"gameDate\", required=True)\n",
    "    season_id = mongoengine.IntField(db_field=\"seasonId\", required=True)\n",
    "    season_name = mongoengine.StringField(db_field=\"seasonName\", required=True)\n",
    "    match_day = mongoengine.IntField(db_field=\"matchday\", required=True)\n",
    "    period = mongoengine.StringField(db_field=\"period\", required=True)\n",
    "    duration = mongoengine.IntField(db_field=\"duration\", required=False)\n",
    "    last_modified = mongoengine.DateTimeField(db_field=\"lastModified\", required=False)\n",
    "\n",
    "    # Competition.\n",
    "    competition_id = mongoengine.IntField(db_field=\"competitionId\", required=True)\n",
    "    competition_name = mongoengine.StringField(\n",
    "        db_field=\"competitionName\", required=True\n",
    "    )\n",
    "\n",
    "    # Home team.\n",
    "    home_team_id = mongoengine.IntField(db_field=\"homeTeamId\", required=True)\n",
    "    home_team_name = mongoengine.StringField(db_field=\"homeTeamName\", required=True)\n",
    "\n",
    "    # Away team.\n",
    "    away_team_id = mongoengine.IntField(db_field=\"awayTeamId\", required=True)\n",
    "    away_team_name = mongoengine.StringField(db_field=\"awayTeamName\", required=True)\n",
    "\n",
    "    # Stadium.\n",
    "    stats = mongoengine.EmbeddedDocumentListField(Venue)\n",
    "\n",
    "    # Officials.\n",
    "    officials = mongoengine.EmbeddedDocumentListField(Officials)\n",
    "\n",
    "    # Final score.\n",
    "    full_time_score = ListField(db_field=\"fullTimeScore\", required=False)\n",
    "\n",
    "    # Metadata.\n",
    "    events_available = mongoengine.BooleanField(\n",
    "        db_field=\"eventsAvailable\", required=False\n",
    "    )\n",
    "\n",
    "    meta = {\n",
    "        \"db_alias\": \"inStat\",\n",
    "        \"collection\": \"Fixture\",\n",
    "    }\n",
    "\n",
    "    @classmethod\n",
    "    def get_all_games(\n",
    "        cls,\n",
    "        limit: int = None,  # Number of rows.\n",
    "    ):  # List of Fixture output.\n",
    "        \"Extract all games.\"\n",
    "        return cls.objects().order_by(\"gameDate\").limit(limit)\n",
    "\n",
    "    @classmethod\n",
    "    def get_game(\n",
    "        cls,\n",
    "        game_id: int,  # Instat game identifier.\n",
    "    ):  # Fixture output.\n",
    "        \"Extract a single game by its gameId.\"\n",
    "        return cls.objects(game_id=game_id).first()\n",
    "\n",
    "    @classmethod\n",
    "    def get_games_by_competition(\n",
    "        cls,\n",
    "        competition_ids: List[int],  # List of competition identifiers.\n",
    "        limit: int = None,  # Number of rows.\n",
    "    ):  # List of Fixture output.\n",
    "        \"Extract all games of given competitions.\"\n",
    "        return (\n",
    "            cls.objects(competition_id__in=competition_ids)\n",
    "            .order_by(\"gameDate\")\n",
    "            .limit(limit)\n",
    "        )"
   ]
  },
  {
   "cell_type": "code",
   "execution_count": null,
   "id": "6b30c647-b2be-4337-8cfa-a1d39d4df7d8",
   "metadata": {},
   "outputs": [],
   "source": [
    "from soccer_prediction_data.config.mongo import mongo_init"
   ]
  },
  {
   "cell_type": "code",
   "execution_count": null,
   "id": "404f0cdd",
   "metadata": {},
   "outputs": [
    {
     "data": {
      "text/plain": [
       "{'id': 1199088,\n",
       " 'game_id': 1199088,\n",
       " 'game_date': datetime.datetime(2018, 7, 29, 5, 6),\n",
       " 'season_id': 2018,\n",
       " 'season_name': '2018-2019',\n",
       " 'match_day': 2,\n",
       " 'period': 'Breakdown completed',\n",
       " 'duration': 96,\n",
       " 'last_modified': datetime.datetime(2022, 11, 3, 5, 7, 3, 611000),\n",
       " 'competition_id': 108,\n",
       " 'competition_name': 'Mexico. Liga MX',\n",
       " 'home_team_id': 1889,\n",
       " 'home_team_name': 'Guadalajara',\n",
       " 'away_team_id': 1059,\n",
       " 'away_team_name': 'Cruz Azul',\n",
       " 'stats': [<Venue: Venue object>],\n",
       " 'officials': [<Officials: Officials object>],\n",
       " 'full_time_score': [0, 1],\n",
       " 'events_available': True}"
      ]
     },
     "execution_count": null,
     "metadata": {},
     "output_type": "execute_result"
    }
   ],
   "source": [
    "# Initialise connections.\n",
    "mongo_init(\"prod_atlas\")\n",
    "# GameId.\n",
    "game_id = 1199088\n",
    "# Extract game info.\n",
    "game_info = Fixture.get_game(game_id)\n",
    "{x: game_info[x] for x in game_info}"
   ]
  },
  {
   "cell_type": "code",
   "execution_count": null,
   "id": "21a3d439-7094-4744-b2cb-a5684493c700",
   "metadata": {},
   "outputs": [],
   "source": [
    "#| hide\n",
    "\n",
    "import nbdev\n",
    "\n",
    "nbdev.nbdev_export()"
   ]
  }
 ],
 "metadata": {
  "kernelspec": {
   "display_name": "python3",
   "language": "python",
   "name": "python3"
  }
 },
 "nbformat": 4,
 "nbformat_minor": 5
}
