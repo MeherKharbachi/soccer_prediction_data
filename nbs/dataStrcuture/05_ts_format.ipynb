{
 "cells": [
  {
   "cell_type": "code",
   "execution_count": null,
   "id": "f1dbcf67",
   "metadata": {},
   "outputs": [],
   "source": [
    "#| default_exp datastructure.ts_format"
   ]
  },
  {
   "cell_type": "code",
   "execution_count": null,
   "id": "8dec0692",
   "metadata": {},
   "outputs": [],
   "source": [
    "#| hide\n",
    "\n",
    "from IPython.core.debugger import set_trace\n",
    "\n",
    "%load_ext autoreload\n",
    "%autoreload 2"
   ]
  },
  {
   "cell_type": "markdown",
   "id": "8a7c25e2",
   "metadata": {},
   "source": [
    "# Time Series (ts) format \n",
    "> Transform a pandas Dataframe to ts format."
   ]
  },
  {
   "cell_type": "code",
   "execution_count": null,
   "id": "8caf3029",
   "metadata": {},
   "outputs": [],
   "source": [
    "#| export\n",
    "import pandas as pd\n",
    "from pathlib import Path\n",
    "from typing import Dict\n",
    "from soccer_prediction_data.datastructure.data_extractor import STATS"
   ]
  },
  {
   "cell_type": "code",
   "execution_count": null,
   "id": "c189453d",
   "metadata": {},
   "outputs": [],
   "source": [
    "#| export\n",
    "\n",
    "FILE_METADATA = {\n",
    "    \"source\": \"Instat\",\n",
    "    \"creator\": \"Real-Analytics\",\n",
    "    \"data_description\": \"\"\"More than 5 years of football data from leagues across the world that includes stats from both competing teams in each played game in each dimension.\\n#The data describes a series of numbers achieved by each squad, which indicate their athletic performance.\\n#This yields a database of almost 52k time series.\"\"\",\n",
    "    \"task\": \"The task is to  predict the outcomes of a set of soccer matches from leagues worldwide.\",\n",
    "    \"problem_name\": \"soccer-preds\",\n",
    "    \"time_stamps\": \"false\",\n",
    "    \"missing\": \"false\",\n",
    "    \"univariate\": \"false\",\n",
    "    \"dimensions\": 2,\n",
    "    \"equal_length\": \"true\",\n",
    "    \"class_label\": \"true 0 1 2\",\n",
    "}"
   ]
  },
  {
   "cell_type": "code",
   "execution_count": null,
   "id": "3ca3809f",
   "metadata": {},
   "outputs": [],
   "source": [
    "# | export\n",
    "\n",
    "def create_ts_file(\n",
    "    df: pd.DataFrame,  # Pandas Dataframe input.\n",
    "    file_path: str = \".\",  # Where should we save our file ??.\n",
    "    file_name: str = \"games\",  # File name.\n",
    "    file_metadata: Dict = FILE_METADATA,  # File metadata.\n",
    ") -> None:\n",
    "    \"Create a ts file from a Pandas dataframe.\"\n",
    "\n",
    "    # Check path.\n",
    "    if not Path(file_path).exists():\n",
    "        raise Exception(\"File path does not exist.\")\n",
    "\n",
    "    # Create an empty ts file.\n",
    "    with open(f\"{file_path}/{file_name}.ts\", \"w\") as f:\n",
    "        # Add data length for each dimension.\n",
    "        file_metadata[\"series_length\"] = len(STATS)\n",
    "        # Init header file information.\n",
    "        header = \"\\n\".join(\n",
    "            (\n",
    "                f'#Source: {file_metadata[\"source\"]}',\n",
    "                f'#Creator: {file_metadata[\"creator\"]}',\n",
    "                \"#\",\n",
    "                \"#Data Set Information:\",\n",
    "                \"#\",\n",
    "                f'#{file_metadata[\"data_description\"]}',\n",
    "                \"#\",\n",
    "                f'#{file_metadata[\"task\"]}',\n",
    "                f'@problemName {file_metadata[\"problem_name\"]}',\n",
    "                f'@timeStamps {file_metadata[\"time_stamps\"]}',\n",
    "                f'@missing {file_metadata[\"missing\"]}',\n",
    "                f'@univariate {file_metadata[\"univariate\"]}',\n",
    "                f'@dimensions {file_metadata[\"dimensions\"]}',\n",
    "                f'@equalLength {file_metadata[\"equal_length\"]}',\n",
    "                f'@seriesLength {file_metadata[\"series_length\"]}',\n",
    "                f'@classLabel {file_metadata[\"class_label\"]}',\n",
    "                f\"@data\",\n",
    "            )\n",
    "        )\n",
    "        # Add header file information.\n",
    "        f.write(header)\n",
    "        # Loop over data to extract info.\n",
    "        for _, row in df.iterrows():\n",
    "            # Extract the values for each dimension and store them in separate lists.\n",
    "            # First dimension for home team features.\n",
    "            dim1_vals = list(row.filter(like=\"homeTeam\")[2:])\n",
    "            # Second dimension for home team features.\n",
    "            dim2_vals = list(row.filter(like=\"awayTeam\")[2:])\n",
    "            # Map results {homewin -> 0 , draw -> 1, awaywin -> 2}.\n",
    "            target_val = 0 if row.HS > row.AS else 2 if row.HS < row.AS else 1\n",
    "\n",
    "            # Combine the values for each dimension into a single string.\n",
    "            data_str = f\"{','.join(str(val) for val in dim1_vals)}:{','.join(str(val) for val in dim2_vals)}:{target_val}\"\n",
    "\n",
    "            # Write the string to the ts file.\n",
    "            f.write(\"\\n\"+ data_str + \"\\n\")"
   ]
  },
  {
   "cell_type": "code",
   "execution_count": null,
   "id": "8ddebf75",
   "metadata": {},
   "outputs": [],
   "source": [
    "games = pd.read_csv(\"games.csv\").fillna(0)\n",
    "create_ts_file(\n",
    "    df=games,\n",
    "    file_path=\".\",\n",
    "    file_name=\"games\",\n",
    "    file_metadata=FILE_METADATA,\n",
    ")"
   ]
  },
  {
   "cell_type": "code",
   "execution_count": null,
   "id": "ca294836",
   "metadata": {},
   "outputs": [],
   "source": [
    "#| hide\n",
    "\n",
    "import nbdev\n",
    "\n",
    "nbdev.nbdev_export()"
   ]
  }
 ],
 "metadata": {
  "kernelspec": {
   "display_name": "python3",
   "language": "python",
   "name": "python3"
  }
 },
 "nbformat": 4,
 "nbformat_minor": 5
}
