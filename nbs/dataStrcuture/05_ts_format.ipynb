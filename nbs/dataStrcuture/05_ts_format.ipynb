{
 "cells": [
  {
   "cell_type": "code",
   "execution_count": null,
   "id": "f1dbcf67",
   "metadata": {},
   "outputs": [],
   "source": [
    "#| default_exp datastructure.ts_format"
   ]
  },
  {
   "cell_type": "code",
   "execution_count": null,
   "id": "8dec0692",
   "metadata": {},
   "outputs": [],
   "source": [
    "#| hide\n",
    "\n",
    "from IPython.core.debugger import set_trace\n",
    "\n",
    "%load_ext autoreload\n",
    "%autoreload 2"
   ]
  },
  {
   "cell_type": "markdown",
   "id": "8a7c25e2",
   "metadata": {},
   "source": [
    "# Time Series (ts) format \n",
    "> Transform a pandas Dataframe to ts format."
   ]
  },
  {
   "cell_type": "code",
   "execution_count": null,
   "id": "8caf3029",
   "metadata": {},
   "outputs": [],
   "source": [
    "# | export\n",
    "\n",
    "import pandas as pd\n",
    "from pathlib import Path\n",
    "from typing import Dict, Tuple\n",
    "from soccer_prediction_data.config.mongo import mongo_init\n",
    "from soccer_prediction_data.datastructure.data_extractor import (\n",
    "    STATS,\n",
    "    COMPETITION_IDS,\n",
    "    data_aggregator,\n",
    ")"
   ]
  },
  {
   "cell_type": "markdown",
   "id": "0211f7c3",
   "metadata": {},
   "source": [
    "We set up the metadata for the ts files."
   ]
  },
  {
   "cell_type": "code",
   "execution_count": null,
   "id": "c189453d",
   "metadata": {},
   "outputs": [],
   "source": [
    "# | export\n",
    "\n",
    "FILE_METADATA = {\n",
    "    \"source\": \"InStat\",\n",
    "    \"creator\": \"Real-Analytics\",\n",
    "    \"data_description\": \"\"\"More than 5 years of football data from leagues across the world that includes stats from both competing teams in each played game in each dimension.\\n#The data describes a series of numbers achieved by each squad, which indicate their athletic performance.\\n#This yields a database of almost 52k time series.\"\"\",\n",
    "    \"task\": \"The task is to  predict the outcomes of a set of soccer matches from leagues worldwide.\",\n",
    "    \"problem_name\": \"soccer-preds\",\n",
    "    \"time_stamps\": \"false\",\n",
    "    \"missing\": \"true\",\n",
    "    \"univariate\": \"false\",\n",
    "    \"dimensions\": 1,\n",
    "    \"equal_length\": \"true\",\n",
    "    \"class_label\": \"true\",\n",
    "}"
   ]
  },
  {
   "cell_type": "markdown",
   "id": "a946377d",
   "metadata": {},
   "source": [
    "## Split data"
   ]
  },
  {
   "cell_type": "markdown",
   "id": "43b44188",
   "metadata": {},
   "source": [
    "We provide a function that divides data by competition into train and test sets before storing it in separate ts files.\n",
    "The user should specify a month-cutoff value indicating when data should be partitioned."
   ]
  },
  {
   "cell_type": "code",
   "execution_count": null,
   "id": "24e31ac2",
   "metadata": {},
   "outputs": [],
   "source": [
    "def split_data(\n",
    "    games: pd.DataFrame,  # All Games.\n",
    "    cutoff_month: int,  # Month-threshold to split data.\n",
    ") -> Tuple:  # train and test set.\n",
    "    \"Split data into train/test sets using a cutoff date.\"\n",
    "\n",
    "    # Group games by competition.S\n",
    "    grp_games = games.groupby(\"competitionName\")\n",
    "    train_data = []\n",
    "    test_data = []\n",
    "    # Loop over compet.\n",
    "    for lg, lg_games in grp_games:\n",
    "        lg_games = lg_games.sort_values(\"gameDate\")\n",
    "        # Calculate the date for the test set period.\n",
    "        test_set_date = lg_games[\"gameDate\"].max() - pd.DateOffset(months=cutoff_month)\n",
    "        # Split data into a training set and a test set.\n",
    "        train_set = lg_games[lg_games[\"gameDate\"] < test_set_date]\n",
    "        test_set = lg_games[lg_games[\"gameDate\"] >= test_set_date]\n",
    "        train_data.append(train_set)\n",
    "        test_data.append(test_set)\n",
    "\n",
    "    train_data = pd.concat(train_data)\n",
    "    test_data = pd.concat(test_data)\n",
    "    return train_data, test_data"
   ]
  },
  {
   "cell_type": "markdown",
   "id": "2c295872",
   "metadata": {},
   "source": [
    "## TS File"
   ]
  },
  {
   "cell_type": "markdown",
   "id": "e7099f1c",
   "metadata": {},
   "source": [
    "We supply a function, here, that will prepare the ts file format for storing game information.\n",
    "Each row contains each team's statistics for the current game and the previous game period.\n",
    "We also included gameId, home and away team Ids, and goals scored by the provided team as target values."
   ]
  },
  {
   "cell_type": "code",
   "execution_count": null,
   "id": "471bfb8f",
   "metadata": {},
   "outputs": [],
   "source": [
    "# | export\n",
    "\n",
    "\n",
    "def create_ts_file(\n",
    "    df: pd.DataFrame,  # Pandas Dataframe input.\n",
    "    file_path: str = \".\",  # Where should we save our file ??.\n",
    "    file_name: str = \"games\",  # File name.\n",
    "    file_metadata: Dict = FILE_METADATA,  # File metadata.\n",
    ") -> None:\n",
    "    \"Create a ts file from a Pandas dataframe.\"\n",
    "\n",
    "    # Check path.\n",
    "    Path(file_path).mkdir(parents=True, exist_ok=True)\n",
    "\n",
    "    # Create an empty ts file.\n",
    "    with open(f\"{file_path}/{file_name}.ts\", \"w\") as f:\n",
    "        # Add data length in file metadata.\n",
    "        file_metadata[\"series_length\"] = len(STATS)+1\n",
    "        # Init header file information.\n",
    "        header = \"\\n\".join(\n",
    "            (\n",
    "                f'#Source: {file_metadata[\"source\"]}',\n",
    "                f'#Creator: {file_metadata[\"creator\"]}',\n",
    "                \"#\",\n",
    "                \"#Data Set Information:\",\n",
    "                \"#\",\n",
    "                f'#{file_metadata[\"data_description\"]}',\n",
    "                \"#\",\n",
    "                f'#{file_metadata[\"task\"]}',\n",
    "                f'@problemName {file_metadata[\"problem_name\"]}',\n",
    "                f'@timeStamps {file_metadata[\"time_stamps\"]}',\n",
    "                f'@missing {file_metadata[\"missing\"]}',\n",
    "                f'@univariate {file_metadata[\"univariate\"]}',\n",
    "                f'@dimensions {file_metadata[\"dimensions\"]}',\n",
    "                f'@equalLength {file_metadata[\"equal_length\"]}',\n",
    "                f'@seriesLength {file_metadata[\"series_length\"]}',\n",
    "                f'@classLabel {file_metadata[\"class_label\"]}',\n",
    "                f\"@data\",\n",
    "            )\n",
    "        )\n",
    "        # Add header file information.\n",
    "        f.write(header)\n",
    "        # Init teams dict.\n",
    "        team_last_game = {}\n",
    "        # Loop over data to extract info.\n",
    "        for _, row in df.iterrows():\n",
    "            # Extract game information.\n",
    "            # Home team features.\n",
    "            home_team_id = row[\"homeTeamId\"]\n",
    "            home_team_feats = row.filter(like=\"homeTeam\")[2:].tolist()\n",
    "            # Away team features.\n",
    "            away_team_id = row[\"awayTeamId\"]\n",
    "            away_team_feats = row.filter(like=\"awayTeam\")[2:].tolist()\n",
    "            \n",
    "            # Add temporal feature.\n",
    "            # Home.\n",
    "            home_team_period = 0\n",
    "            if home_team_id in team_last_game:\n",
    "                home_team_period = (\n",
    "                    row[\"gameDate\"] - team_last_game[home_team_id]\n",
    "                ).days + 1\n",
    "            team_last_game[home_team_id] = row[\"gameDate\"]\n",
    "\n",
    "            # Away.\n",
    "            away_team_period = 0\n",
    "            if away_team_id in team_last_game:\n",
    "                away_team_period = (\n",
    "                    row[\"gameDate\"] - team_last_game[away_team_id]\n",
    "                ).days + 1\n",
    "            team_last_game[away_team_id] = row[\"gameDate\"]\n",
    "\n",
    "            # Put on each row each team features.\n",
    "            # Add target values(gameId, home and away team Id, scored goals by the given team)\n",
    "            h_data_str = f\"{','.join(str(val) for val in home_team_feats)},{home_team_period}:{row.gameId},{home_team_id},{away_team_id},{row.HS}\"\n",
    "            a_data_str = f\"{','.join(str(val) for val in away_team_feats)},{away_team_period}:{row.gameId},{home_team_id},{away_team_id},{row.AS}\"\n",
    "            # Write stringq to the ts file.\n",
    "            f.write(\"\\n\" + h_data_str + \"\\n\" + a_data_str)"
   ]
  },
  {
   "cell_type": "code",
   "execution_count": null,
   "id": "0c5f6310",
   "metadata": {},
   "outputs": [
    {
     "data": {
      "application/json": {
       "ascii": false,
       "bar_format": null,
       "colour": null,
       "elapsed": 0.006378650665283203,
       "initial": 0,
       "n": 0,
       "ncols": null,
       "nrows": 24,
       "postfix": null,
       "prefix": "",
       "rate": null,
       "total": 1000,
       "unit": "it",
       "unit_divisor": 1000,
       "unit_scale": false
      },
      "application/vnd.jupyter.widget-view+json": {
       "model_id": "837aa0c6284b4091ae9296d43468cf28",
       "version_major": 2,
       "version_minor": 0
      },
      "text/plain": [
       "  0%|          | 0/1000 [00:00<?, ?it/s]"
      ]
     },
     "metadata": {},
     "output_type": "display_data"
    }
   ],
   "source": [
    "mongo_init(db_host=\"prod_atlas\")\n",
    "games, future_games = data_aggregator(\n",
    "    competition_ids=COMPETITION_IDS, stats_attributes=STATS, limit=1000\n",
    ")"
   ]
  },
  {
   "cell_type": "code",
   "execution_count": null,
   "id": "db3f24cf",
   "metadata": {},
   "outputs": [],
   "source": [
    "train_data, test_data = split_data(games=games, cutoff_month=1)"
   ]
  },
  {
   "cell_type": "code",
   "execution_count": null,
   "id": "8ddebf75",
   "metadata": {},
   "outputs": [],
   "source": [
    "create_ts_file(\n",
    "    df=train_data,\n",
    "    file_path=\".\",\n",
    "    file_name=\"train_data\",\n",
    "    file_metadata=FILE_METADATA,\n",
    ")\n",
    "create_ts_file(\n",
    "    df=test_data,\n",
    "    file_path=\".\",\n",
    "    file_name=\"test_data\",\n",
    "    file_metadata=FILE_METADATA,\n",
    ")"
   ]
  },
  {
   "cell_type": "code",
   "execution_count": null,
   "id": "ca294836",
   "metadata": {},
   "outputs": [],
   "source": [
    "#| hide\n",
    "\n",
    "import nbdev\n",
    "\n",
    "nbdev.nbdev_export()"
   ]
  }
 ],
 "metadata": {
  "kernelspec": {
   "display_name": "python3",
   "language": "python",
   "name": "python3"
  }
 },
 "nbformat": 4,
 "nbformat_minor": 5
}
