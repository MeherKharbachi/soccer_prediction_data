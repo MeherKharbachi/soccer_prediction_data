{
 "cells": [
  {
   "cell_type": "code",
   "execution_count": null,
   "id": "f1dbcf67",
   "metadata": {},
   "outputs": [],
   "source": [
    "#| default_exp datastructure.ts_format"
   ]
  },
  {
   "cell_type": "code",
   "execution_count": null,
   "id": "8dec0692",
   "metadata": {},
   "outputs": [],
   "source": [
    "#| hide\n",
    "\n",
    "from IPython.core.debugger import set_trace\n",
    "\n",
    "%load_ext autoreload\n",
    "%autoreload 2"
   ]
  },
  {
   "cell_type": "markdown",
   "id": "8a7c25e2",
   "metadata": {},
   "source": [
    "# Time Series (ts) format \n",
    "> Transform a pandas Dataframe to ts format."
   ]
  },
  {
   "cell_type": "code",
   "execution_count": null,
   "id": "8caf3029",
   "metadata": {},
   "outputs": [],
   "source": [
    "# | export\n",
    "import pandas as pd\n",
    "from pathlib import Path\n",
    "from typing import Dict\n",
    "from soccer_prediction_data.config.mongo import mongo_init\n",
    "from soccer_prediction_data.datastructure.data_extractor import (\n",
    "    STATS,\n",
    "    COMPETITION_IDS,\n",
    "    data_aggregator,\n",
    ")"
   ]
  },
  {
   "cell_type": "code",
   "execution_count": null,
   "id": "c189453d",
   "metadata": {},
   "outputs": [],
   "source": [
    "#| export\n",
    "\n",
    "FILE_METADATA = {\n",
    "    \"source\": \"InStat\",\n",
    "    \"creator\": \"Real-Analytics\",\n",
    "    \"data_description\": \"\"\"More than 5 years of football data from leagues across the world that includes stats from both competing teams in each played game in each dimension.\\n#The data describes a series of numbers achieved by each squad, which indicate their athletic performance.\\n#This yields a database of almost 52k time series.\"\"\",\n",
    "    \"task\": \"The task is to  predict the outcomes of a set of soccer matches from leagues worldwide.\",\n",
    "    \"problem_name\": \"soccer-preds\",\n",
    "    \"time_stamps\": \"false\",\n",
    "    \"missing\": \"true\",\n",
    "    \"univariate\": \"false\",\n",
    "    \"dimensions\": 1,\n",
    "    \"equal_length\": \"true\",\n",
    "    \"class_label\": \"true\",\n",
    "}"
   ]
  },
  {
   "cell_type": "code",
   "execution_count": null,
   "id": "3ca3809f",
   "metadata": {},
   "outputs": [],
   "source": [
    "# | export\n",
    "\n",
    "\n",
    "def create_ts_file(\n",
    "    df: pd.DataFrame,  # Pandas Dataframe input.\n",
    "    file_path: str = \".\",  # Where should we save our file ??.\n",
    "    file_name: str = \"games\",  # File name.\n",
    "    file_metadata: Dict = FILE_METADATA,  # File metadata.\n",
    ") -> None:\n",
    "    \"Create a ts file from a Pandas dataframe.\"\n",
    "\n",
    "    # Check path.    \n",
    "    Path(file_path).mkdir(parents=True, exist_ok=True)\n",
    "\n",
    "    # Create an empty ts file.\n",
    "    with open(f\"{file_path}/{file_name}.ts\", \"w\") as f:\n",
    "        # Add data length for each dimension.\n",
    "        file_metadata[\"series_length\"] = len(STATS)\n",
    "        # Init header file information.\n",
    "        header = \"\\n\".join(\n",
    "            (\n",
    "                f'#Source: {file_metadata[\"source\"]}',\n",
    "                f'#Creator: {file_metadata[\"creator\"]}',\n",
    "                \"#\",\n",
    "                \"#Data Set Information:\",\n",
    "                \"#\",\n",
    "                f'#{file_metadata[\"data_description\"]}',\n",
    "                \"#\",\n",
    "                f'#{file_metadata[\"task\"]}',\n",
    "                f'@problemName {file_metadata[\"problem_name\"]}',\n",
    "                f'@timeStamps {file_metadata[\"time_stamps\"]}',\n",
    "                f'@missing {file_metadata[\"missing\"]}',\n",
    "                f'@univariate {file_metadata[\"univariate\"]}',\n",
    "                f'@dimensions {file_metadata[\"dimensions\"]}',\n",
    "                f'@equalLength {file_metadata[\"equal_length\"]}',\n",
    "                f'@seriesLength {file_metadata[\"series_length\"]}',\n",
    "                f'@classLabel {file_metadata[\"class_label\"]}',\n",
    "                f\"@data\",\n",
    "            )\n",
    "        )\n",
    "        # Add header file information.\n",
    "        f.write(header)\n",
    "        # Init teams dict.\n",
    "        team_last_game = {}\n",
    "        # Loop over data to extract info.\n",
    "        for _, row in df.iterrows():\n",
    "            # Extract game information.\n",
    "            # Home team features.\n",
    "            home_team_feats = row.filter(like=\"homeTeam\")[2:].tolist()\n",
    "            # Away team features.\n",
    "            away_team_feats = row.filter(like=\"awayTeam\")[2:].tolist()\n",
    "            # target values (team Ids and scored goals)\n",
    "            home_team_id = row[\"homeTeamId\"]\n",
    "            home_team_goals = row[\"HS\"]\n",
    "            away_team_id = row[\"awayTeamId\"]\n",
    "            away_team_goals = row[\"AS\"]\n",
    "            \n",
    "            # Add temporal feature.\n",
    "            # Home.\n",
    "            home_team_period = 0\n",
    "            if home_team_id in team_last_game:\n",
    "                home_team_period = (row[\"gameDate\"] - team_last_game[home_team_id]).days + 1\n",
    "            team_last_game[home_team_id] = row[\"gameDate\"]\n",
    "            \n",
    "            # Away.\n",
    "            away_team_period = 0\n",
    "            if away_team_id in team_last_game:\n",
    "                away_team_period = (row[\"gameDate\"] - team_last_game[away_team_id]).days + 1\n",
    "            team_last_game[away_team_id] = row[\"gameDate\"]\n",
    "            \n",
    "            # Put on each row each team features.\n",
    "            h_data_str = (\n",
    "                f\"{','.join(str(val) for val in home_team_feats)},{home_team_period}:{home_team_goals},{home_team_id}\"\n",
    "            )\n",
    "            a_data_str = (\n",
    "                f\"{','.join(str(val) for val in away_team_feats)},{away_team_period}:{away_team_goals},{away_team_id}\"\n",
    "            )\n",
    "            # Write stringq to the ts file.\n",
    "            f.write(\"\\n\" + h_data_str + \"\\n\" + a_data_str)"
   ]
  },
  {
   "cell_type": "code",
   "execution_count": null,
   "id": "0c5f6310",
   "metadata": {},
   "outputs": [
    {
     "data": {
      "application/json": {
       "ascii": false,
       "bar_format": null,
       "colour": null,
       "elapsed": 0.005277156829833984,
       "initial": 0,
       "n": 0,
       "ncols": null,
       "nrows": 24,
       "postfix": null,
       "prefix": "",
       "rate": null,
       "total": 10,
       "unit": "it",
       "unit_divisor": 1000,
       "unit_scale": false
      },
      "application/vnd.jupyter.widget-view+json": {
       "model_id": "fb956b3e470a4c1d91bc4ea9114f8480",
       "version_major": 2,
       "version_minor": 0
      },
      "text/plain": [
       "  0%|          | 0/10 [00:00<?, ?it/s]"
      ]
     },
     "metadata": {},
     "output_type": "display_data"
    }
   ],
   "source": [
    "mongo_init(db_host=\"prod_atlas\")\n",
    "games, future_games = data_aggregator(\n",
    "    competition_ids=COMPETITION_IDS, stats_attributes=STATS, limit=10\n",
    ")\n",
    "games = games.fillna(-99)"
   ]
  },
  {
   "cell_type": "code",
   "execution_count": null,
   "id": "8ddebf75",
   "metadata": {},
   "outputs": [],
   "source": [
    "create_ts_file(\n",
    "    df=games,\n",
    "    file_path=\".\",\n",
    "    file_name=\"games\",\n",
    "    file_metadata=FILE_METADATA,\n",
    ")"
   ]
  },
  {
   "cell_type": "code",
   "execution_count": null,
   "id": "ca294836",
   "metadata": {},
   "outputs": [],
   "source": [
    "#| hide\n",
    "\n",
    "import nbdev\n",
    "\n",
    "nbdev.nbdev_export()"
   ]
  }
 ],
 "metadata": {
  "kernelspec": {
   "display_name": "python3",
   "language": "python",
   "name": "python3"
  }
 },
 "nbformat": 4,
 "nbformat_minor": 5
}
