{
 "cells": [
  {
   "cell_type": "code",
   "execution_count": null,
   "metadata": {},
   "outputs": [],
   "source": [
    "#| default_exp config.localconfig"
   ]
  },
  {
   "cell_type": "markdown",
   "metadata": {},
   "source": [
    "# Config\n",
    "> Configuration file and some simple set-up. "
   ]
  },
  {
   "cell_type": "markdown",
   "metadata": {},
   "source": [
    "## Load configuration\n",
    "\n",
    "The configuration file for this project is defined in `toml` format and should be loaded at the start of this project. It is saved by default under `/secrets/config.toml`. It is the user responsibility to make sure this file is saved at the right location."
   ]
  },
  {
   "cell_type": "code",
   "execution_count": null,
   "metadata": {},
   "outputs": [],
   "source": [
    "#| export\n",
    "\n",
    "import toml\n",
    "import logging\n",
    "import os\n",
    "from pathlib import Path"
   ]
  },
  {
   "cell_type": "code",
   "execution_count": null,
   "metadata": {},
   "outputs": [],
   "source": [
    "#| export\n",
    "\n",
    "## config\n",
    "logging.basicConfig(\n",
    "    level=logging.INFO, format=\"%(asctime)s - %(message)s\", datefmt=\"%Y-%m-%d %H:%M:%S\"\n",
    ")\n",
    "\n",
    "logger = logging.getLogger(__name__)\n",
    "\n",
    "config_path_local = Path(os.getenv(\"HOME\")) / \"secrets\" / \"config.toml\"\n",
    "config_path_local = config_path_local if config_path_local.exists() else Path(\"/secrets/config.toml\")\n",
    "\n",
    "if config_path_local.exists():\n",
    "    CONFIG = toml.load(config_path_local)\n",
    "else:\n",
    "    logger.error(\n",
    "        \"No config file found under pkg root or in `/secrets/config.toml`!\"\n",
    "    )\n",
    "\n",
    "# Defined database hosts.\n",
    "DB_HOSTS = set([db for db in CONFIG[\"databases\"]])"
   ]
  },
  {
   "cell_type": "code",
   "execution_count": null,
   "metadata": {},
   "outputs": [],
   "source": [
    "#| hide\n",
    "\n",
    "import nbdev\n",
    "\n",
    "nbdev.nbdev_export()"
   ]
  }
 ],
 "metadata": {
  "kernelspec": {
   "display_name": "python3",
   "language": "python",
   "name": "python3"
  }
 },
 "nbformat": 4,
 "nbformat_minor": 4
}
